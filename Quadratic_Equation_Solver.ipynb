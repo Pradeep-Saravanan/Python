{
  "nbformat": 4,
  "nbformat_minor": 0,
  "metadata": {
    "colab": {
      "provenance": [],
      "authorship_tag": "ABX9TyPu4AkJfF6tIxFtmrVJtups"
    },
    "kernelspec": {
      "name": "python3",
      "display_name": "Python 3"
    },
    "language_info": {
      "name": "python"
    }
  },
  "cells": [
    {
      "cell_type": "code",
      "execution_count": null,
      "metadata": {
        "id": "q29rXEW0Nlwy"
      },
      "outputs": [],
      "source": [
        "\n",
        "#Programme using if elif and else\n",
        "#Finding solution for quadratic equation\n",
        "print('Enter')  \n",
        "a=float(input('Co.eff of x²:')) \n",
        "b=float(input('Co.eff of x:')) \n",
        "c=float(input('Constant:'))\n",
        "d=((b**2) -4*a*c)\n",
        "if d>0:\n",
        "  D=d**0.5\n",
        "  sol1=(-b+D)/2\n",
        "  sol2=(-b-D)/2\n",
        "  print('Solution for the given quadratic \\n equation is %f and %f'%(sol1, sol2))\n",
        "elif d<0:\n",
        "  D=d**0.5\n",
        "  sol1=complex((-b+D)/2)\n",
        "  sol2=complex((-b-D)/2)\n",
        "  print('Solution for the given \\n quadratic equation is ',sol1,'\\nand ',sol2,sep='')\n",
        "  \n",
        "else:\n",
        "  D=d**0.5\n",
        "  sol1=(-b+D)/2\n",
        "  sol2=(-b-D)/2\n",
        "  print('Solution for the given quadratic \\n equation is %f and %f'%(sol1, sol2))"
      ]
    }
  ]
}