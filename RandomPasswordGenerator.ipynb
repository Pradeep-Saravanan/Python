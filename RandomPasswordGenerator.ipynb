{
  "nbformat": 4,
  "nbformat_minor": 0,
  "metadata": {
    "colab": {
      "provenance": [],
      "authorship_tag": "ABX9TyMUIxr7fmK69NYa1tiF0108",
      "include_colab_link": true
    },
    "kernelspec": {
      "name": "python3",
      "display_name": "Python 3"
    },
    "language_info": {
      "name": "python"
    }
  },
  "cells": [
    {
      "cell_type": "markdown",
      "metadata": {
        "id": "view-in-github",
        "colab_type": "text"
      },
      "source": [
        "<a href=\"https://colab.research.google.com/github/Pradeep-Saravanan/Python/blob/main/RandomPasswordGenerator.ipynb\" target=\"_parent\"><img src=\"https://colab.research.google.com/assets/colab-badge.svg\" alt=\"Open In Colab\"/></a>"
      ]
    },
    {
      "cell_type": "code",
      "execution_count": null,
      "metadata": {
        "id": "fSUJDoviQxBQ"
      },
      "outputs": [],
      "source": [
        "#To generate random text\n",
        "#with numbers and letter\n",
        "#can be used for creating passwords\n",
        "import random\n",
        "a=-25\n",
        "b=23\n",
        "p=-1\n",
        "q=9\n",
        "c=(random.randint(a,b))\n",
        "s=(random.randint(a,b))\n",
        "t=(random.randint(a,b))\n",
        "u=(random.randint(a,b))\n",
        "r=(random.randint(p,q))\n",
        "v=(random.randint(p,q))\n",
        "w=(random.randint(p,q))\n",
        "x=(random.randint(p,q))\n",
        "d=('A','B','C','D','E',\\\n",
        "'F','G','H','I','K','L',\\\n",
        "'M','N','O','P','Q','R',\\\n",
        "'S','T','U','V','X','Y','Z')\n",
        "e=('0','1','2','3','4','5',\\\n",
        "'6','7','8','9')\n",
        "print(d[c],d[s],d[t],d[u],e[r],e[v],e[w],e[x],sep='')"
      ]
    }
  ]
}